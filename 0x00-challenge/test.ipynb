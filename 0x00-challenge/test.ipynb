{
 "cells": [
  {
   "cell_type": "code",
   "execution_count": 23,
   "metadata": {},
   "outputs": [
    {
     "name": "stdout",
     "output_type": "stream",
     "text": [
      "Test User\n",
      "deb1536f480475f7d593219aa1afd74c\n",
      "3\n",
      "True\n",
      "DEB1536F480475F7D593219AA1AFD74C\n",
      "3\n"
     ]
    }
   ],
   "source": [
    "#!/usr/bin/python3\n",
    "\"\"\"\n",
    " User Model\n",
    "\"\"\"\n",
    "import hashlib\n",
    "import uuid\n",
    "\n",
    "\n",
    "class User():\n",
    "    \"\"\"\n",
    "    User class:\n",
    "    - id: public string unique (uuid)\n",
    "    - password: private string hash in MD5\n",
    "    \"\"\"\n",
    "\n",
    "    __password = None\n",
    "\n",
    "    def __init__(self):\n",
    "        \"\"\"\n",
    "        Initialize a new user:\n",
    "        - assigned an unique `id`\n",
    "        \"\"\"\n",
    "        self.id = str(uuid.uuid4())\n",
    "\n",
    "    @property\n",
    "    def password(self):\n",
    "        \"\"\"\n",
    "        Password getter\n",
    "        \"\"\"\n",
    "        return self.__password\n",
    "\n",
    "    @password.setter\n",
    "    def password(self, pwd):\n",
    "        \"\"\"\n",
    "        Password setter:\n",
    "        - `None` if `pwd` is `None`\n",
    "        - `None` if `pwd` is not a string\n",
    "        - Hash `pwd` in MD5 before assign to `__password`\n",
    "        \"\"\"\n",
    "        if pwd is None or type(pwd) is not str:\n",
    "            self.__password = None\n",
    "        else:\n",
    "            self.__password = hashlib.md5(pwd.encode()).hexdigest().lower()\n",
    "\n",
    "    def is_valid_password(self, pwd):\n",
    "        \"\"\"\n",
    "        Valid password:\n",
    "        - `False` if `pwd` is `None`\n",
    "        - `False` if `pwd` is not a string\n",
    "        - `False` if `__password` is `None`\n",
    "        - Compare `__password` and the MD5 value of `pwd`\n",
    "        \"\"\"\n",
    "        if pwd is None or type(pwd) is not str:\n",
    "            print(\"1\")\n",
    "            return False\n",
    "        if self.__password is None:\n",
    "            print(\"2\")\n",
    "            return False\n",
    "        print(\"3\")\n",
    "        return hashlib.md5(pwd.encode()).hexdigest().lower() == self.__password\n",
    "\n",
    "\n",
    "print(\"Test User\")\n",
    "\n",
    "user_1 = User()\n",
    "if user_1.id is None:\n",
    "    print(\"New User should have an id\")\n",
    "\n",
    "user_2 = User()\n",
    "if user_1.id == user_2.id:\n",
    "    print(\"User.id should be unique\")\n",
    "\n",
    "u_pwd = \"myPassword\"\n",
    "user_1.password = u_pwd\n",
    "print(user_1.password)\n",
    "if user_1.password == u_pwd:\n",
    "    print(\"User.password should be hashed\")\n",
    "\n",
    "if user_2.password is not None:\n",
    "    print(\"User.password should be None by default\")\n",
    "\n",
    "user_2.password = None\n",
    "if user_2.password is not None:\n",
    "    print(\"User.password should be None if setter to None\")\n",
    "\n",
    "user_2.password = 89\n",
    "if user_2.password is not None:\n",
    "    print(\"User.password should be None if setter to an integer\")\n",
    "\n",
    "print(user_1.is_valid_password(u_pwd))\n",
    "print(hashlib.md5(u_pwd.encode()).hexdigest().upper())\n",
    "\n",
    "if not user_1.is_valid_password(u_pwd):\n",
    "    print(\"is_valid_password should return True if it's the right \\\n",
    "password\")"
   ]
  },
  {
   "cell_type": "code",
   "execution_count": 7,
   "metadata": {},
   "outputs": [
    {
     "name": "stdout",
     "output_type": "stream",
     "text": [
      "Test User\n",
      "None\n"
     ]
    }
   ],
   "source": [
    "print(\"Test User\")\n",
    "\n",
    "user_1 = User()\n",
    "if user_1.id is None:\n",
    "    print(\"New User should have an id\")\n",
    "\n",
    "user_2 = User()\n",
    "if user_1.id == user_2.id:\n",
    "    print(\"User.id should be unique\")\n",
    "\n",
    "u_pwd = \"myPassword\"\n",
    "user_1.password = u_pwd\n",
    "if user_1.password == u_pwd:\n",
    "    print(\"User.password should be hashed\")\n",
    "\n",
    "if user_2.password is not None:\n",
    "    print(\"User.password should be None by default\")\n",
    "\n",
    "user_2.password = None\n",
    "if user_2.password is not None:\n",
    "    print(\"User.password should be None if setter to None\")\n",
    "\n",
    "user_2.password = 89\n",
    "if user_2.password is not None:\n",
    "    print(\"User.password should be None if setter to an integer\")"
   ]
  },
  {
   "cell_type": "code",
   "execution_count": 9,
   "metadata": {},
   "outputs": [
    {
     "name": "stdout",
     "output_type": "stream",
     "text": [
      "None\n"
     ]
    }
   ],
   "source": [
    "a = user_1.password\n",
    "print(a)"
   ]
  },
  {
   "cell_type": "code",
   "execution_count": 11,
   "metadata": {},
   "outputs": [
    {
     "name": "stdout",
     "output_type": "stream",
     "text": [
      "None\n"
     ]
    }
   ],
   "source": [
    "u_pwd = \"myPassword\"\n",
    "user_1.password = u_pwd\n",
    "a = user_1.password\n",
    "print(a)"
   ]
  },
  {
   "cell_type": "code",
   "execution_count": 3,
   "metadata": {},
   "outputs": [
    {
     "name": "stdout",
     "output_type": "stream",
     "text": [
      "is_valid_password should return True if it's the right password\n"
     ]
    }
   ],
   "source": [
    "if not user_1.is_valid_password(u_pwd):\n",
    "    print(\"is_valid_password should return True if it's the right \\\n",
    "password\")"
   ]
  },
  {
   "cell_type": "code",
   "execution_count": null,
   "metadata": {},
   "outputs": [],
   "source": []
  }
 ],
 "metadata": {
  "kernelspec": {
   "display_name": "base",
   "language": "python",
   "name": "python3"
  },
  "language_info": {
   "codemirror_mode": {
    "name": "ipython",
    "version": 3
   },
   "file_extension": ".py",
   "mimetype": "text/x-python",
   "name": "python",
   "nbconvert_exporter": "python",
   "pygments_lexer": "ipython3",
   "version": "3.11.4"
  }
 },
 "nbformat": 4,
 "nbformat_minor": 2
}
